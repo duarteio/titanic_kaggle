{
 "cells": [
  {
   "cell_type": "markdown",
   "id": "58d70939-d1fa-4c31-9907-b425d75a9f47",
   "metadata": {},
   "source": [
    "# Titanic"
   ]
  },
  {
   "cell_type": "markdown",
   "id": "09401f1c-ff27-4770-b7fc-f135ff5cc333",
   "metadata": {},
   "source": [
    "A kaggle competition."
   ]
  },
  {
   "cell_type": "markdown",
   "id": "8ba75761-a02e-45d0-b4eb-b07d2b7d3734",
   "metadata": {},
   "source": [
    "Author: Duarte, I. O."
   ]
  },
  {
   "cell_type": "markdown",
   "id": "6cca456e-fb5e-43c5-98e9-4996a0e32973",
   "metadata": {},
   "source": [
    "Importing modules."
   ]
  },
  {
   "cell_type": "code",
   "execution_count": 1,
   "id": "70119cb6-cd4e-4d20-ae9b-04df23f9f053",
   "metadata": {},
   "outputs": [],
   "source": [
    "import pandas as pd\n",
    "import numpy as np\n",
    "from sklearn.ensemble import RandomForestClassifier\n",
    "from sklearn.preprocessing import StandardScaler\n",
    "from sklearn.decomposition import PCA\n",
    "import matplotlib.pyplot as plt\n",
    "import matplotlib\n",
    "import seaborn as sns\n",
    "import math"
   ]
  },
  {
   "cell_type": "markdown",
   "id": "bef15220-2957-4259-87e2-7abfea1776a2",
   "metadata": {},
   "source": [
    "## 1. Data"
   ]
  },
  {
   "cell_type": "markdown",
   "id": "a276243c-c38d-4b69-a7d4-3998c7d5dbc0",
   "metadata": {},
   "source": [
    "Reading datasets."
   ]
  },
  {
   "cell_type": "code",
   "execution_count": 2,
   "id": "d8413c03-937d-41c3-b0d2-1d58c487ef8f",
   "metadata": {},
   "outputs": [],
   "source": [
    "train_data = pd.read_csv(r'data\\train.csv')\n",
    "test_data = pd.read_csv(r'data\\test.csv')"
   ]
  },
  {
   "cell_type": "markdown",
   "id": "115d7ac1-d61e-4ba0-9e44-f96f69d2ef18",
   "metadata": {},
   "source": [
    "Datasets are concatenated into one dataset to handle data more easily."
   ]
  },
  {
   "cell_type": "code",
   "execution_count": 3,
   "id": "24c5feed-720e-455d-90f2-d744e71f79d3",
   "metadata": {},
   "outputs": [
    {
     "name": "stdout",
     "output_type": "stream",
     "text": [
      "Concatenated dataset (train group = 891; test group = 418)\n"
     ]
    },
    {
     "data": {
      "text/html": [
       "<div>\n",
       "<style scoped>\n",
       "    .dataframe tbody tr th:only-of-type {\n",
       "        vertical-align: middle;\n",
       "    }\n",
       "\n",
       "    .dataframe tbody tr th {\n",
       "        vertical-align: top;\n",
       "    }\n",
       "\n",
       "    .dataframe thead th {\n",
       "        text-align: right;\n",
       "    }\n",
       "</style>\n",
       "<table border=\"1\" class=\"dataframe\">\n",
       "  <thead>\n",
       "    <tr style=\"text-align: right;\">\n",
       "      <th></th>\n",
       "      <th>PassengerId</th>\n",
       "      <th>Survived</th>\n",
       "      <th>Pclass</th>\n",
       "      <th>Name</th>\n",
       "      <th>Sex</th>\n",
       "      <th>Age</th>\n",
       "      <th>SibSp</th>\n",
       "      <th>Parch</th>\n",
       "      <th>Ticket</th>\n",
       "      <th>Fare</th>\n",
       "      <th>Cabin</th>\n",
       "      <th>Embarked</th>\n",
       "      <th>Group</th>\n",
       "    </tr>\n",
       "  </thead>\n",
       "  <tbody>\n",
       "    <tr>\n",
       "      <th>0</th>\n",
       "      <td>1</td>\n",
       "      <td>0.0</td>\n",
       "      <td>3</td>\n",
       "      <td>Braund, Mr. Owen Harris</td>\n",
       "      <td>male</td>\n",
       "      <td>22.0</td>\n",
       "      <td>1</td>\n",
       "      <td>0</td>\n",
       "      <td>A/5 21171</td>\n",
       "      <td>7.2500</td>\n",
       "      <td>NaN</td>\n",
       "      <td>S</td>\n",
       "      <td>train</td>\n",
       "    </tr>\n",
       "    <tr>\n",
       "      <th>1</th>\n",
       "      <td>2</td>\n",
       "      <td>1.0</td>\n",
       "      <td>1</td>\n",
       "      <td>Cumings, Mrs. John Bradley (Florence Briggs Th...</td>\n",
       "      <td>female</td>\n",
       "      <td>38.0</td>\n",
       "      <td>1</td>\n",
       "      <td>0</td>\n",
       "      <td>PC 17599</td>\n",
       "      <td>71.2833</td>\n",
       "      <td>C85</td>\n",
       "      <td>C</td>\n",
       "      <td>train</td>\n",
       "    </tr>\n",
       "    <tr>\n",
       "      <th>2</th>\n",
       "      <td>3</td>\n",
       "      <td>1.0</td>\n",
       "      <td>3</td>\n",
       "      <td>Heikkinen, Miss. Laina</td>\n",
       "      <td>female</td>\n",
       "      <td>26.0</td>\n",
       "      <td>0</td>\n",
       "      <td>0</td>\n",
       "      <td>STON/O2. 3101282</td>\n",
       "      <td>7.9250</td>\n",
       "      <td>NaN</td>\n",
       "      <td>S</td>\n",
       "      <td>train</td>\n",
       "    </tr>\n",
       "    <tr>\n",
       "      <th>3</th>\n",
       "      <td>4</td>\n",
       "      <td>1.0</td>\n",
       "      <td>1</td>\n",
       "      <td>Futrelle, Mrs. Jacques Heath (Lily May Peel)</td>\n",
       "      <td>female</td>\n",
       "      <td>35.0</td>\n",
       "      <td>1</td>\n",
       "      <td>0</td>\n",
       "      <td>113803</td>\n",
       "      <td>53.1000</td>\n",
       "      <td>C123</td>\n",
       "      <td>S</td>\n",
       "      <td>train</td>\n",
       "    </tr>\n",
       "    <tr>\n",
       "      <th>4</th>\n",
       "      <td>5</td>\n",
       "      <td>0.0</td>\n",
       "      <td>3</td>\n",
       "      <td>Allen, Mr. William Henry</td>\n",
       "      <td>male</td>\n",
       "      <td>35.0</td>\n",
       "      <td>0</td>\n",
       "      <td>0</td>\n",
       "      <td>373450</td>\n",
       "      <td>8.0500</td>\n",
       "      <td>NaN</td>\n",
       "      <td>S</td>\n",
       "      <td>train</td>\n",
       "    </tr>\n",
       "    <tr>\n",
       "      <th>...</th>\n",
       "      <td>...</td>\n",
       "      <td>...</td>\n",
       "      <td>...</td>\n",
       "      <td>...</td>\n",
       "      <td>...</td>\n",
       "      <td>...</td>\n",
       "      <td>...</td>\n",
       "      <td>...</td>\n",
       "      <td>...</td>\n",
       "      <td>...</td>\n",
       "      <td>...</td>\n",
       "      <td>...</td>\n",
       "      <td>...</td>\n",
       "    </tr>\n",
       "    <tr>\n",
       "      <th>1304</th>\n",
       "      <td>1305</td>\n",
       "      <td>NaN</td>\n",
       "      <td>3</td>\n",
       "      <td>Spector, Mr. Woolf</td>\n",
       "      <td>male</td>\n",
       "      <td>NaN</td>\n",
       "      <td>0</td>\n",
       "      <td>0</td>\n",
       "      <td>A.5. 3236</td>\n",
       "      <td>8.0500</td>\n",
       "      <td>NaN</td>\n",
       "      <td>S</td>\n",
       "      <td>test</td>\n",
       "    </tr>\n",
       "    <tr>\n",
       "      <th>1305</th>\n",
       "      <td>1306</td>\n",
       "      <td>NaN</td>\n",
       "      <td>1</td>\n",
       "      <td>Oliva y Ocana, Dona. Fermina</td>\n",
       "      <td>female</td>\n",
       "      <td>39.0</td>\n",
       "      <td>0</td>\n",
       "      <td>0</td>\n",
       "      <td>PC 17758</td>\n",
       "      <td>108.9000</td>\n",
       "      <td>C105</td>\n",
       "      <td>C</td>\n",
       "      <td>test</td>\n",
       "    </tr>\n",
       "    <tr>\n",
       "      <th>1306</th>\n",
       "      <td>1307</td>\n",
       "      <td>NaN</td>\n",
       "      <td>3</td>\n",
       "      <td>Saether, Mr. Simon Sivertsen</td>\n",
       "      <td>male</td>\n",
       "      <td>38.5</td>\n",
       "      <td>0</td>\n",
       "      <td>0</td>\n",
       "      <td>SOTON/O.Q. 3101262</td>\n",
       "      <td>7.2500</td>\n",
       "      <td>NaN</td>\n",
       "      <td>S</td>\n",
       "      <td>test</td>\n",
       "    </tr>\n",
       "    <tr>\n",
       "      <th>1307</th>\n",
       "      <td>1308</td>\n",
       "      <td>NaN</td>\n",
       "      <td>3</td>\n",
       "      <td>Ware, Mr. Frederick</td>\n",
       "      <td>male</td>\n",
       "      <td>NaN</td>\n",
       "      <td>0</td>\n",
       "      <td>0</td>\n",
       "      <td>359309</td>\n",
       "      <td>8.0500</td>\n",
       "      <td>NaN</td>\n",
       "      <td>S</td>\n",
       "      <td>test</td>\n",
       "    </tr>\n",
       "    <tr>\n",
       "      <th>1308</th>\n",
       "      <td>1309</td>\n",
       "      <td>NaN</td>\n",
       "      <td>3</td>\n",
       "      <td>Peter, Master. Michael J</td>\n",
       "      <td>male</td>\n",
       "      <td>NaN</td>\n",
       "      <td>1</td>\n",
       "      <td>1</td>\n",
       "      <td>2668</td>\n",
       "      <td>22.3583</td>\n",
       "      <td>NaN</td>\n",
       "      <td>C</td>\n",
       "      <td>test</td>\n",
       "    </tr>\n",
       "  </tbody>\n",
       "</table>\n",
       "<p>1309 rows × 13 columns</p>\n",
       "</div>"
      ],
      "text/plain": [
       "      PassengerId  Survived  Pclass  \\\n",
       "0               1       0.0       3   \n",
       "1               2       1.0       1   \n",
       "2               3       1.0       3   \n",
       "3               4       1.0       1   \n",
       "4               5       0.0       3   \n",
       "...           ...       ...     ...   \n",
       "1304         1305       NaN       3   \n",
       "1305         1306       NaN       1   \n",
       "1306         1307       NaN       3   \n",
       "1307         1308       NaN       3   \n",
       "1308         1309       NaN       3   \n",
       "\n",
       "                                                   Name     Sex   Age  SibSp  \\\n",
       "0                               Braund, Mr. Owen Harris    male  22.0      1   \n",
       "1     Cumings, Mrs. John Bradley (Florence Briggs Th...  female  38.0      1   \n",
       "2                                Heikkinen, Miss. Laina  female  26.0      0   \n",
       "3          Futrelle, Mrs. Jacques Heath (Lily May Peel)  female  35.0      1   \n",
       "4                              Allen, Mr. William Henry    male  35.0      0   \n",
       "...                                                 ...     ...   ...    ...   \n",
       "1304                                 Spector, Mr. Woolf    male   NaN      0   \n",
       "1305                       Oliva y Ocana, Dona. Fermina  female  39.0      0   \n",
       "1306                       Saether, Mr. Simon Sivertsen    male  38.5      0   \n",
       "1307                                Ware, Mr. Frederick    male   NaN      0   \n",
       "1308                           Peter, Master. Michael J    male   NaN      1   \n",
       "\n",
       "      Parch              Ticket      Fare Cabin Embarked  Group  \n",
       "0         0           A/5 21171    7.2500   NaN        S  train  \n",
       "1         0            PC 17599   71.2833   C85        C  train  \n",
       "2         0    STON/O2. 3101282    7.9250   NaN        S  train  \n",
       "3         0              113803   53.1000  C123        S  train  \n",
       "4         0              373450    8.0500   NaN        S  train  \n",
       "...     ...                 ...       ...   ...      ...    ...  \n",
       "1304      0           A.5. 3236    8.0500   NaN        S   test  \n",
       "1305      0            PC 17758  108.9000  C105        C   test  \n",
       "1306      0  SOTON/O.Q. 3101262    7.2500   NaN        S   test  \n",
       "1307      0              359309    8.0500   NaN        S   test  \n",
       "1308      1                2668   22.3583   NaN        C   test  \n",
       "\n",
       "[1309 rows x 13 columns]"
      ]
     },
     "metadata": {},
     "output_type": "display_data"
    }
   ],
   "source": [
    "train_data[\"Group\"] = \"train\"\n",
    "test_data[\"Group\"] = \"test\"\n",
    "data = pd.concat([train_data,test_data]).reset_index(drop=True)\n",
    "print(\"Concatenated dataset (train group = \"+str(len(train_data))+\"; test group = \"+str(len(test_data))+\")\")\n",
    "display(data)"
   ]
  },
  {
   "cell_type": "markdown",
   "id": "47a8acd3-6d27-4012-ac5a-63b76e1cda0f",
   "metadata": {},
   "source": [
    "## 2. Exploratory analysis"
   ]
  },
  {
   "cell_type": "markdown",
   "id": "5207f48d-a96d-45f7-833d-3258a7763b01",
   "metadata": {},
   "source": [
    "For each relevant feature the information value (IV) will be found through the informationValue() function."
   ]
  },
  {
   "cell_type": "code",
   "execution_count": 4,
   "id": "a20e6d06-af40-4a6b-8289-ef552e5e48ec",
   "metadata": {},
   "outputs": [],
   "source": [
    "def informationValue(feature):\n",
    "    if type(data[feature][0]) != str:\n",
    "        data[\"Bin\"] = pd.qcut(data[feature], q = 10)\n",
    "        survivors = data.groupby(by=[\"Bin\"]).sum()[\"Survived\"]\n",
    "        total = data.loc[data[\"Group\"] == 'train'].groupby(by=[\"Bin\"]).count()[\"PassengerId\"]\n",
    "    else:\n",
    "        survivors = data.groupby(by=[feature]).sum()[\"Survived\"]\n",
    "        total = data.loc[data[\"Group\"] == 'train'].groupby(by=[feature]).count()[\"PassengerId\"]\n",
    "    IVtable = pd.DataFrame({'survivors':survivors,'non-survivors':total-survivors})\n",
    "    IVtable[\"survDist\"] = IVtable[\"survivors\"]/IVtable[\"survivors\"].sum()\n",
    "    IVtable[\"nonsurvDist\"] = IVtable[\"non-survivors\"]/IVtable[\"non-survivors\"].sum()\n",
    "    IVtable[\"DG-DB\"] = IVtable[\"survDist\"] - IVtable[\"nonsurvDist\"]\n",
    "    IVtable[\"WOE\"] = np.log(IVtable[\"survDist\"]/IVtable[\"nonsurvDist\"])\n",
    "    IVtable[\"IV\"] = IVtable[\"DG-DB\"]*IVtable[\"WOE\"]\n",
    "    print(IVtable)\n",
    "    print(\"IV = \"+str(IVtable[\"IV\"].sum()))"
   ]
  },
  {
   "cell_type": "markdown",
   "id": "44ac1f5d-9f0f-4156-88f4-ab42f6d3da16",
   "metadata": {},
   "source": [
    "### 2.1 Sex"
   ]
  },
  {
   "cell_type": "markdown",
   "id": "27c57c18-5c37-4e7b-9b59-c250dc8941ec",
   "metadata": {},
   "source": [
    "Men and women survivor fractions were first calculated."
   ]
  },
  {
   "cell_type": "code",
   "execution_count": 5,
   "id": "83573e91-5924-4328-9c97-0c5209e8dc2a",
   "metadata": {},
   "outputs": [
    {
     "name": "stdout",
     "output_type": "stream",
     "text": [
      "% of women who survived:  0.7420382165605095\n",
      "% of men who survived:  0.18890814558058924\n"
     ]
    }
   ],
   "source": [
    "women = data.loc[(data.Group == 'train') & (data.Sex == \"female\")][\"Survived\"]\n",
    "rate_women = sum(women)/len(women)\n",
    "men = data.loc[(data.Group == 'train') & (data.Sex == \"male\")][\"Survived\"]\n",
    "rate_men = sum(men)/len(men)\n",
    "print(\"% of women who survived: \",rate_women)\n",
    "print(\"% of men who survived: \",rate_men)"
   ]
  },
  {
   "cell_type": "markdown",
   "id": "4d50c444-a3d9-4354-8086-3a9eb250b5e0",
   "metadata": {},
   "source": [
    "Plot of the counts of men and women that survived or not."
   ]
  },
  {
   "cell_type": "code",
   "execution_count": 6,
   "id": "8af3b08f-1704-44be-af72-d357f6bd8711",
   "metadata": {},
   "outputs": [
    {
     "data": {
      "image/png": "[encoded data removed]",
      "text/plain": [
       "<Figure size 432x288 with 1 Axes>"
      ]
     },
     "metadata": {},
     "output_type": "display_data"
    }
   ],
   "source": [
    "sns.set_theme(style=\"darkgrid\")\n",
    "ax = sns.countplot(x=\"Sex\", hue=\"Survived\", data=data.loc[data.Group == 'train'])\n",
    "for p in ax.patches:\n",
    "    ax.annotate(format(p.get_height(), '.2f'), (p.get_x() + p.get_width() / 2., p.get_height()), ha = 'center', va = 'center', xytext = (0, 10), textcoords = 'offset points')"
   ]
  },
  {
   "cell_type": "markdown",
   "id": "968dd906-afbd-417f-80c9-3ce4827cb2b0",
   "metadata": {},
   "source": [
    "The IV for \"sex\" is determined."
   ]
  },
  {
   "cell_type": "code",
   "execution_count": 7,
   "id": "03054ea1-2abf-4881-b4d7-2b6d34c32b3b",
   "metadata": {},
   "outputs": [
    {
     "name": "stdout",
     "output_type": "stream",
     "text": [
      "        survivors  non-survivors  survDist  nonsurvDist     DG-DB       WOE  \\\n",
      "Sex                                                                           \n",
      "female      233.0           81.0  0.681287     0.147541  0.533746  1.529877   \n",
      "male        109.0          468.0  0.318713     0.852459 -0.533746 -0.983833   \n",
      "\n",
      "              IV  \n",
      "Sex               \n",
      "female  0.816565  \n",
      "male    0.525116  \n",
      "IV = 1.3416814135556492\n"
     ]
    }
   ],
   "source": [
    "informationValue(\"Sex\")"
   ]
  },
  {
   "cell_type": "markdown",
   "id": "aa7c4df5-ea1b-4893-bbf6-3d504d9be9cb",
   "metadata": {},
   "source": [
    "### 2.2 Age"
   ]
  },
  {
   "cell_type": "markdown",
   "id": "681d30e5-a1c2-45b4-b89d-0915f0a3b433",
   "metadata": {},
   "source": [
    "Histogram of people in the train set by age."
   ]
  },
  {
   "cell_type": "code",
   "execution_count": 8,
   "id": "ad578bde-ae5d-4b7f-9b8c-2e544603eef5",
   "metadata": {},
   "outputs": [
    {
     "name": "stdout",
     "output_type": "stream",
     "text": [
      "Orange: survived; Blue: didn't survive\n"
     ]
    },
    {
     "data": {
      "image/png": "[encoded data removed]",
      "text/plain": [
       "<Figure size 432x288 with 1 Axes>"
      ]
     },
     "metadata": {},
     "output_type": "display_data"
    }
   ],
   "source": [
    "data.loc[data[\"Survived\"] == 0][\"Age\"].hist(alpha = 0.5)\n",
    "data.loc[data[\"Survived\"] == 1][\"Age\"].hist(alpha = 0.5)\n",
    "print(\"Orange: survived; Blue: didn't survive\")"
   ]
  },
  {
   "cell_type": "markdown",
   "id": "9eb23475-25b3-467f-af23-effe3b422566",
   "metadata": {},
   "source": [
    "IV for age."
   ]
  },
  {
   "cell_type": "code",
   "execution_count": 9,
   "id": "f61f4833-4da7-4231-9f14-ef7e2b2dbf78",
   "metadata": {},
   "outputs": [
    {
     "name": "stdout",
     "output_type": "stream",
     "text": [
      "               survivors  non-survivors  survDist  nonsurvDist     DG-DB  \\\n",
      "Bin                                                                        \n",
      "(0.169, 14.0]       45.0           32.0  0.155172     0.075472  0.079701   \n",
      "(14.0, 19.0]        34.0           53.0  0.117241     0.125000 -0.007759   \n",
      "(19.0, 22.0]        19.0           48.0  0.065517     0.113208 -0.047690   \n",
      "(22.0, 25.0]        26.0           44.0  0.089655     0.103774 -0.014118   \n",
      "(25.0, 28.0]        24.0           37.0  0.082759     0.087264 -0.004506   \n",
      "(28.0, 31.0]        26.0           40.0  0.089655     0.094340 -0.004684   \n",
      "(31.0, 36.0]        44.0           47.0  0.151724     0.110849  0.040875   \n",
      "(36.0, 42.0]        25.0           41.0  0.086207     0.096698 -0.010491   \n",
      "(42.0, 50.0]        25.0           40.0  0.086207     0.094340 -0.008133   \n",
      "(50.0, 80.0]        22.0           42.0  0.075862     0.099057 -0.023195   \n",
      "\n",
      "                    WOE        IV  \n",
      "Bin                                \n",
      "(0.169, 14.0]  0.720779  0.057447  \n",
      "(14.0, 19.0]  -0.064079  0.000497  \n",
      "(19.0, 22.0]  -0.546909  0.026082  \n",
      "(22.0, 25.0]  -0.146241  0.002065  \n",
      "(25.0, 28.0]  -0.053012  0.000239  \n",
      "(28.0, 31.0]  -0.050930  0.000239  \n",
      "(31.0, 36.0]   0.313895  0.012830  \n",
      "(36.0, 42.0]  -0.114844  0.001205  \n",
      "(42.0, 50.0]  -0.090151  0.000733  \n",
      "(50.0, 80.0]  -0.266775  0.006188  \n",
      "IV = 0.10752437082535603\n"
     ]
    }
   ],
   "source": [
    "informationValue(\"Age\")"
   ]
  },
  {
   "cell_type": "markdown",
   "id": "a28b565e-5625-434e-a897-e87a81c53f7e",
   "metadata": {},
   "source": [
    "### 2.3 Fare"
   ]
  },
  {
   "cell_type": "markdown",
   "id": "1e0a487c-9e8f-4a25-a46d-c1ac00ea2855",
   "metadata": {},
   "source": [
    "Histogram of people in the train set by ticket fare."
   ]
  },
  {
   "cell_type": "code",
   "execution_count": 10,
   "id": "cee79f2f-cc0f-4650-8caa-ecef0d56935b",
   "metadata": {},
   "outputs": [
    {
     "name": "stdout",
     "output_type": "stream",
     "text": [
      "Orange: survived; Blue: didn't survive\n"
     ]
    },
    {
     "data": {
      "image/png": "[encoded data removed]",
      "text/plain": [
       "<Figure size 432x288 with 1 Axes>"
      ]
     },
     "metadata": {},
     "output_type": "display_data"
    }
   ],
   "source": [
    "data.loc[data[\"Survived\"] == 0][\"Fare\"].hist(alpha=0.5)\n",
    "data.loc[data[\"Survived\"] == 1][\"Fare\"].hist(alpha=0.5)\n",
    "print(\"Orange: survived; Blue: didn't survive\")"
   ]
  },
  {
   "cell_type": "markdown",
   "id": "d32dbe42-bd72-495a-b9cb-8a4f74597a00",
   "metadata": {},
   "source": [
    "IV for fare."
   ]
  },
  {
   "cell_type": "code",
   "execution_count": 11,
   "id": "14b11ef0-7789-4579-ac46-1ae9d3d58538",
   "metadata": {},
   "outputs": [
    {
     "name": "stdout",
     "output_type": "stream",
     "text": [
      "                   survivors  non-survivors  survDist  nonsurvDist     DG-DB  \\\n",
      "Bin                                                                            \n",
      "(-0.001, 7.568]         13.0           79.0  0.038012     0.143898 -0.105886   \n",
      "(7.568, 7.854]          26.0           61.0  0.076023     0.111111 -0.035088   \n",
      "(7.854, 8.05]           19.0           87.0  0.055556     0.158470 -0.102914   \n",
      "(8.05, 10.5]            18.0           60.0  0.052632     0.109290 -0.056658   \n",
      "(10.5, 14.454]          36.0           48.0  0.105263     0.087432  0.017831   \n",
      "(14.454, 21.679]        37.0           51.0  0.108187     0.092896  0.015291   \n",
      "(21.679, 26.955]        45.0           42.0  0.131579     0.076503  0.055076   \n",
      "(26.955, 41.579]        37.0           60.0  0.108187     0.109290 -0.001102   \n",
      "(41.579, 78.051]        45.0           40.0  0.131579     0.072860  0.058719   \n",
      "(78.051, 512.329]       66.0           21.0  0.192982     0.038251  0.154731   \n",
      "\n",
      "                        WOE        IV  \n",
      "Bin                                    \n",
      "(-0.001, 7.568]   -1.331211  0.140957  \n",
      "(7.568, 7.854]    -0.379490  0.013315  \n",
      "(7.854, 8.05]     -1.048181  0.107873  \n",
      "(8.05, 10.5]      -0.730685  0.041399  \n",
      "(10.5, 14.454]     0.185606  0.003310  \n",
      "(14.454, 21.679]   0.152380  0.002330  \n",
      "(21.679, 26.955]   0.542281  0.029867  \n",
      "(26.955, 41.579]  -0.010139  0.000011  \n",
      "(41.579, 78.051]   0.591071  0.034707  \n",
      "(78.051, 512.329]  1.618420  0.250420  \n",
      "IV = 0.6241892388550906\n"
     ]
    }
   ],
   "source": [
    "informationValue(\"Fare\")"
   ]
  },
  {
   "cell_type": "markdown",
   "id": "7c6779f4-2fa0-477e-9019-ce9bccc7931f",
   "metadata": {},
   "source": [
    "### 2.4 Ticket class"
   ]
  },
  {
   "cell_type": "markdown",
   "id": "4bd6f059-1bdf-4a1b-8333-b31719b7bc70",
   "metadata": {},
   "source": [
    "Histogram of people in the train set by ticket class."
   ]
  },
  {
   "cell_type": "code",
   "execution_count": 12,
   "id": "cec79b46-ab5a-488d-8689-609ea0b4a3db",
   "metadata": {},
   "outputs": [
    {
     "name": "stdout",
     "output_type": "stream",
     "text": [
      "Orange: survived; Blue: didn't survive\n"
     ]
    },
    {
     "data": {
      "image/png": "[encoded data removed]",
      "text/plain": [
       "<Figure size 432x288 with 1 Axes>"
      ]
     },
     "metadata": {},
     "output_type": "display_data"
    }
   ],
   "source": [
    "data[\"Pclass\"] = pd.Series([str(x) for x in data[\"Pclass\"]]) # The numerical categories were converted to string\n",
    "data.loc[data[\"Survived\"] == 0][\"Pclass\"].hist(alpha=0.5)\n",
    "data.loc[data[\"Survived\"] == 1][\"Pclass\"].hist(alpha=0.5)\n",
    "print(\"Orange: survived; Blue: didn't survive\")"
   ]
  },
  {
   "cell_type": "markdown",
   "id": "ced04abc-eb60-47b1-ab8a-7fcdaaa25973",
   "metadata": {},
   "source": [
    "IV for ticket class."
   ]
  },
  {
   "cell_type": "code",
   "execution_count": 13,
   "id": "68b98065-c10d-4bde-9041-6dea823cbc44",
   "metadata": {},
   "outputs": [
    {
     "name": "stdout",
     "output_type": "stream",
     "text": [
      "        survivors  non-survivors  survDist  nonsurvDist     DG-DB       WOE  \\\n",
      "Pclass                                                                        \n",
      "1           136.0           80.0  0.397661     0.145719  0.251941  1.003916   \n",
      "2            87.0           97.0  0.254386     0.176685  0.077701  0.364485   \n",
      "3           119.0          372.0  0.347953     0.677596 -0.329642 -0.666483   \n",
      "\n",
      "              IV  \n",
      "Pclass            \n",
      "1       0.252928  \n",
      "2       0.028321  \n",
      "3       0.219701  \n",
      "IV = 0.500949737583947\n"
     ]
    }
   ],
   "source": [
    "informationValue(\"Pclass\")"
   ]
  },
  {
   "cell_type": "markdown",
   "id": "089f1a4a-8c08-41de-8f11-4d615dc1fe1f",
   "metadata": {},
   "source": [
    "### 2.6 Number of siblings/spouses on board"
   ]
  },
  {
   "cell_type": "markdown",
   "id": "4644dcfc-e6c9-4fbe-a1c4-54d565ff37a6",
   "metadata": {},
   "source": [
    "Histogram of people in the train set by the number of siblings and/or spouses they had on board."
   ]
  },
  {
   "cell_type": "code",
   "execution_count": 14,
   "id": "4142ec38-9904-42e6-a346-d9871da05e12",
   "metadata": {},
   "outputs": [
    {
     "name": "stdout",
     "output_type": "stream",
     "text": [
      "Orange: survived; Blue: didn't survive\n"
     ]
    },
    {
     "data": {
      "image/png": "[encoded data removed]",
      "text/plain": [
       "<Figure size 432x288 with 1 Axes>"
      ]
     },
     "metadata": {},
     "output_type": "display_data"
    }
   ],
   "source": [
    "data[\"SibSp\"] = pd.Series([str(x) for x in data[\"SibSp\"]]) # This feature was also converted to string\n",
    "data.loc[data[\"Survived\"] == 0][\"SibSp\"].hist(alpha=0.5)\n",
    "data.loc[data[\"Survived\"] == 1][\"SibSp\"].hist(alpha=0.5)\n",
    "print(\"Orange: survived; Blue: didn't survive\")"
   ]
  },
  {
   "cell_type": "markdown",
   "id": "b49f19e1-a2f8-4880-9454-d809b84fdfe7",
   "metadata": {},
   "source": [
    "IV for the number of siblings and/or spouses they had on board."
   ]
  },
  {
   "cell_type": "code",
   "execution_count": 15,
   "id": "38eb5ceb-6198-4863-8034-0f025132a426",
   "metadata": {},
   "outputs": [
    {
     "name": "stdout",
     "output_type": "stream",
     "text": [
      "       survivors  non-survivors  survDist  nonsurvDist     DG-DB       WOE  \\\n",
      "SibSp                                                                        \n",
      "0          210.0          398.0  0.614035     0.724954 -0.110919 -0.166057   \n",
      "1          112.0           97.0  0.327485     0.176685  0.150800  0.617076   \n",
      "2           13.0           15.0  0.038012     0.027322  0.010689  0.330187   \n",
      "3            4.0           12.0  0.011696     0.021858 -0.010162 -0.625325   \n",
      "4            3.0           15.0  0.008772     0.027322 -0.018550 -1.136150   \n",
      "5            0.0            5.0  0.000000     0.009107 -0.009107      -inf   \n",
      "8            0.0            7.0  0.000000     0.012750 -0.012750      -inf   \n",
      "\n",
      "             IV  \n",
      "SibSp            \n",
      "0      0.018419  \n",
      "1      0.093055  \n",
      "2      0.003529  \n",
      "3      0.006355  \n",
      "4      0.021076  \n",
      "5           inf  \n",
      "8           inf  \n",
      "IV = inf\n"
     ]
    },
    {
     "name": "stderr",
     "output_type": "stream",
     "text": [
      "c:\\users\\igoro\\appdata\\local\\programs\\python\\python39\\lib\\site-packages\\pandas\\core\\arraylike.py:358: RuntimeWarning: divide by zero encountered in log\n",
      "  result = getattr(ufunc, method)(*inputs, **kwargs)\n"
     ]
    }
   ],
   "source": [
    "informationValue(\"SibSp\")"
   ]
  },
  {
   "cell_type": "markdown",
   "id": "80561959-2e48-4553-ba67-07d2ab997dde",
   "metadata": {},
   "source": [
    "### 2.7 Number of parents/children on board"
   ]
  },
  {
   "cell_type": "markdown",
   "id": "70241b31-5cdb-49e9-919a-81f94181d6bd",
   "metadata": {},
   "source": [
    "Histogram of people in the train set by the number of parents and/or children they had on board."
   ]
  },
  {
   "cell_type": "code",
   "execution_count": 16,
   "id": "5451b5c5-e940-4747-aef4-bc4e019c0d94",
   "metadata": {},
   "outputs": [
    {
     "name": "stdout",
     "output_type": "stream",
     "text": [
      "Orange: survived; Blue: didn't survive\n"
     ]
    },
    {
     "data": {
      "image/png": "[encoded data removed]",
      "text/plain": [
       "<Figure size 432x288 with 1 Axes>"
      ]
     },
     "metadata": {},
     "output_type": "display_data"
    }
   ],
   "source": [
    "data[\"Parch\"] = pd.Series([str(x) for x in data[\"Parch\"]])\n",
    "data.loc[data[\"Survived\"] == 0][\"Parch\"].hist(alpha=0.5)\n",
    "data.loc[data[\"Survived\"] == 1][\"Parch\"].hist(alpha=0.5)\n",
    "print(\"Orange: survived; Blue: didn't survive\")"
   ]
  },
  {
   "cell_type": "markdown",
   "id": "903021f9-8d3d-46f2-a291-a0f5ac3ada73",
   "metadata": {},
   "source": [
    "IV for the number of parents and/or children they had on board."
   ]
  },
  {
   "cell_type": "code",
   "execution_count": 17,
   "id": "f845bd34-3e62-45d5-bc9b-0a71add873a0",
   "metadata": {},
   "outputs": [
    {
     "name": "stdout",
     "output_type": "stream",
     "text": [
      "       survivors  non-survivors  survDist  nonsurvDist     DG-DB       WOE  \\\n",
      "Parch                                                                        \n",
      "0          233.0          445.0  0.681287     0.810565 -0.129278 -0.173748   \n",
      "1           65.0           53.0  0.190058     0.096539  0.093519  0.677383   \n",
      "2           40.0           40.0  0.116959     0.072860  0.044099  0.473288   \n",
      "3            3.0            2.0  0.008772     0.003643  0.005129  0.878753   \n",
      "4            0.0            4.0  0.000000     0.007286 -0.007286      -inf   \n",
      "5            1.0            4.0  0.002924     0.007286 -0.004362 -0.913007   \n",
      "6            0.0            1.0  0.000000     0.001821 -0.001821      -inf   \n",
      "9            0.0            NaN  0.000000          NaN       NaN       NaN   \n",
      "\n",
      "             IV  \n",
      "Parch            \n",
      "0      0.022462  \n",
      "1      0.063348  \n",
      "2      0.020872  \n",
      "3      0.004507  \n",
      "4           inf  \n",
      "5      0.003983  \n",
      "6           inf  \n",
      "9           NaN  \n",
      "IV = inf\n"
     ]
    },
    {
     "name": "stderr",
     "output_type": "stream",
     "text": [
      "c:\\users\\igoro\\appdata\\local\\programs\\python\\python39\\lib\\site-packages\\pandas\\core\\arraylike.py:358: RuntimeWarning: divide by zero encountered in log\n",
      "  result = getattr(ufunc, method)(*inputs, **kwargs)\n"
     ]
    }
   ],
   "source": [
    "informationValue(\"Parch\")"
   ]
  },
  {
   "cell_type": "markdown",
   "id": "efcb5cee-5004-4abb-9d27-1feb76e0c21f",
   "metadata": {},
   "source": [
    "### 2.8 Ticket number"
   ]
  },
  {
   "cell_type": "markdown",
   "id": "4407625c-a54a-4223-b427-980ade3cebdc",
   "metadata": {},
   "source": [
    "Histogram of people in the train set by their ticket number."
   ]
  },
  {
   "cell_type": "code",
   "execution_count": 18,
   "id": "a1914be1-79df-4839-a5fc-4ffb863f5aaf",
   "metadata": {},
   "outputs": [
    {
     "name": "stdout",
     "output_type": "stream",
     "text": [
      "Orange: survived; Blue: didn't survive\n"
     ]
    },
    {
     "data": {
      "image/png": "[encoded data removed]",
      "text/plain": [
       "<Figure size 432x288 with 1 Axes>"
      ]
     },
     "metadata": {},
     "output_type": "display_data"
    }
   ],
   "source": [
    "data.loc[data[\"Survived\"] == 0][\"Ticket\"].hist(alpha=0.5)\n",
    "data.loc[data[\"Survived\"] == 1][\"Ticket\"].hist(alpha=0.5)\n",
    "print(\"Orange: survived; Blue: didn't survive\")"
   ]
  },
  {
   "cell_type": "markdown",
   "id": "8b3fb9dc-bd3d-481f-b67b-ccac7f4f12a3",
   "metadata": {},
   "source": [
    "The IV was not calculated because there are too many categories in the feature."
   ]
  },
  {
   "cell_type": "markdown",
   "id": "47c51198-f882-4d67-9ec9-f87e95cbc5da",
   "metadata": {},
   "source": [
    "### 2.9 Cabin number"
   ]
  },
  {
   "cell_type": "markdown",
   "id": "ec726e5a-39b1-4e9d-9008-4df47c616af2",
   "metadata": {},
   "source": [
    "Histogram of people in the train set by their cabin number."
   ]
  },
  {
   "cell_type": "code",
   "execution_count": 19,
   "id": "cfe79ce7-5feb-4d60-8353-2abe1090d524",
   "metadata": {},
   "outputs": [
    {
     "name": "stdout",
     "output_type": "stream",
     "text": [
      "Orange: survived; Blue: didn't survive\n"
     ]
    },
    {
     "data": {
      "image/png": "[encoded data removed]",
      "text/plain": [
       "<Figure size 432x288 with 1 Axes>"
      ]
     },
     "metadata": {},
     "output_type": "display_data"
    }
   ],
   "source": [
    "data.loc[data[\"Survived\"] == 0][\"Cabin\"].hist(alpha=0.5)\n",
    "data.loc[data[\"Survived\"] == 1][\"Cabin\"].hist(alpha=0.5)\n",
    "print(\"Orange: survived; Blue: didn't survive\")"
   ]
  },
  {
   "cell_type": "markdown",
   "id": "166965fe-0fec-4ee9-a88a-2c7dce3bf087",
   "metadata": {},
   "source": [
    "The IV was not calculated because there are too many categories in the feature."
   ]
  },
  {
   "cell_type": "markdown",
   "id": "eb9e3c08-b39b-4cc9-9533-8eacdf1cdf08",
   "metadata": {},
   "source": [
    "### 2.10 Port of embarkation"
   ]
  },
  {
   "cell_type": "markdown",
   "id": "7979b27b-1ddc-414f-809b-39e1ffe56a2e",
   "metadata": {},
   "source": [
    "Histogram of people in the train set by the city where they embarked."
   ]
  },
  {
   "cell_type": "code",
   "execution_count": 20,
   "id": "089a2927-b043-4da2-a1b3-cf14801aca38",
   "metadata": {},
   "outputs": [
    {
     "name": "stdout",
     "output_type": "stream",
     "text": [
      "Orange: survived; Blue: didn't survive\n"
     ]
    },
    {
     "data": {
      "image/png": "[encoded data removed]",
      "text/plain": [
       "<Figure size 432x288 with 1 Axes>"
      ]
     },
     "metadata": {},
     "output_type": "display_data"
    }
   ],
   "source": [
    "data.loc[data[\"Survived\"] == 0][\"Embarked\"].hist(alpha=0.5)\n",
    "data.loc[data[\"Survived\"] == 1][\"Embarked\"].hist(alpha=0.5)\n",
    "print(\"Orange: survived; Blue: didn't survive\")"
   ]
  },
  {
   "cell_type": "markdown",
   "id": "eb56127b-3dd3-45e8-87e6-f8f74f12675d",
   "metadata": {},
   "source": [
    "### Scatterplot of the survivor of male and female passangers considering their ages and ticket fares."
   ]
  },
  {
   "cell_type": "code",
   "execution_count": 21,
   "id": "3df0673e-fefd-4730-b3cd-16b8c4c858ba",
   "metadata": {},
   "outputs": [
    {
     "data": {
      "text/plain": [
       "<AxesSubplot:xlabel='Fare', ylabel='Age'>"
      ]
     },
     "execution_count": 21,
     "metadata": {},
     "output_type": "execute_result"
    },
    {
     "data": {
      "image/png": "[encoded data removed]",
      "text/plain": [
       "<Figure size 576x432 with 1 Axes>"
      ]
     },
     "metadata": {},
     "output_type": "display_data"
    }
   ],
   "source": [
    "f, ax = plt.subplots(figsize=(8, 6))\n",
    "\n",
    "sns.despine(f, left=True, bottom=True)\n",
    "sns.set_theme(style=\"whitegrid\",font_scale=1.2)\n",
    "sns.scatterplot(x=\"Fare\", y=\"Age\",\n",
    "                hue=\"Sex\",\n",
    "                style=\"Survived\",\n",
    "                style_order=[1,0],\n",
    "                data=train_data,\n",
    "                ax=ax,\n",
    "                s= 100, alpha= 0.8)"
   ]
  },
  {
   "cell_type": "markdown",
   "id": "4e40465c-f8fa-4ed4-a545-a97ffe9c0097",
   "metadata": {},
   "source": [
    "## 3 Models for the binary classification"
   ]
  },
  {
   "cell_type": "markdown",
   "id": "a6d8bdda-6584-4063-b5b1-0c38038d8b81",
   "metadata": {},
   "source": [
    "For the model constructions, the dataset is refreshed to abandon unwanted modifications."
   ]
  },
  {
   "cell_type": "code",
   "execution_count": 22,
   "id": "c7abda00-4129-457e-8847-03e7cfb76888",
   "metadata": {},
   "outputs": [],
   "source": [
    "data = pd.concat([train_data,test_data]).reset_index(drop=True)\n",
    "survival = data.loc[data[\"Group\"] == 'train'][\"Survived\"]"
   ]
  },
  {
   "cell_type": "markdown",
   "id": "8b7c989d-8815-4c16-98b3-2e1e380fb109",
   "metadata": {},
   "source": [
    "### 1st model\n",
    "Classification with a Randon Forest algorithm adjusted for (1) the ticket class, (2) the sex, (3) the number of siblings/spouses aboard and (4) the number of parents/children aboard."
   ]
  },
  {
   "cell_type": "code",
   "execution_count": 23,
   "id": "db990049-0b49-4e4f-933c-370d86be12b4",
   "metadata": {},
   "outputs": [
    {
     "name": "stdout",
     "output_type": "stream",
     "text": [
      "Model 1 - Accuracy score: 77.51%\n"
     ]
    }
   ],
   "source": [
    "features = [\"Pclass\", \"Sex\", \"SibSp\", \"Parch\"]\n",
    "X = pd.get_dummies(data.loc[data[\"Group\"]==\"train\"][features])\n",
    "model = RandomForestClassifier(n_estimators=100, max_depth=5, random_state=1)\n",
    "model.fit(X, survival)\n",
    "\n",
    "X_test = pd.get_dummies(data.loc[data[\"Group\"]==\"test\"][features])\n",
    "predictions = model.predict(X_test)\n",
    "\n",
    "output = pd.DataFrame({'PassengerId': data.loc[data[\"Group\"]==\"test\"][\"PassengerId\"], 'Survived': predictions})\n",
    "output.to_csv('my_submission.csv', index=False)\n",
    "print(\"Model 1 - Accuracy score: 77.51%\")"
   ]
  },
  {
   "cell_type": "markdown",
   "id": "6eb9283a-c612-4219-8965-4921de99f871",
   "metadata": {},
   "source": [
    "### 2nd model\n",
    "Classification with a Randon Forest algorithm adjusted for (1) the ticket class, (2) the sex, (3) the age, (4) the number of siblings/spouses on board, (5) the number of parents/children on board, (6) the ticket fare and (7) the port of embarkation."
   ]
  },
  {
   "cell_type": "code",
   "execution_count": 24,
   "id": "4ce5a767-b78f-414c-bdf4-261f273ae130",
   "metadata": {},
   "outputs": [
    {
     "name": "stdout",
     "output_type": "stream",
     "text": [
      "Model 2 - Accuracy score: 77.990%\n"
     ]
    }
   ],
   "source": [
    "data[\"meanAge\"] = data[\"Age\"].fillna(data[\"Age\"].mean())\n",
    "data[\"meanFare\"] = data[\"Fare\"].fillna(data[\"Fare\"].mean())\n",
    "\n",
    "features = [\"Pclass\", \"Sex\", \"meanAge\", \"SibSp\", \"Parch\", \"meanFare\", \"Embarked\"]\n",
    "\n",
    "X = pd.get_dummies(data.loc[data[\"Group\"]==\"train\"][features])\n",
    "\n",
    "model = RandomForestClassifier(n_estimators=100, max_depth=5, random_state=1)\n",
    "model.fit(X, survival)\n",
    "X_test = pd.get_dummies(data.loc[data[\"Group\"]==\"test\"][features])\n",
    "predictions = model.predict(X_test)\n",
    "\n",
    "output = pd.DataFrame({'PassengerId': data.loc[data[\"Group\"]==\"test\"][\"PassengerId\"], 'Survived': predictions})\n",
    "output.to_csv('my_submission2.csv', index=False)\n",
    "print(\"Model 2 - Accuracy score: 77.990%\")"
   ]
  },
  {
   "cell_type": "markdown",
   "id": "221d8545-6724-4e79-9e9c-7ceba34ce7d3",
   "metadata": {},
   "source": [
    "The prediction scores for the train set were calculated for Model 2 and were ploted against the number of survivors."
   ]
  },
  {
   "cell_type": "code",
   "execution_count": 25,
   "id": "b035a659-12b8-4d4c-9ae6-e42cb82df7fc",
   "metadata": {},
   "outputs": [],
   "source": [
    "scores = model.predict_proba(X)\n",
    "scores = pd.DataFrame({'Prob_scores':scores[:,1],'Survived':data.loc[data[\"Group\"]=='train'][\"Survived\"]})\n",
    "scores = scores.sort_values(by='Prob_scores')\n",
    "scores[\"Score_group\"] = pd.qcut(scores[\"Prob_scores\"],q=10)\n",
    "scores = scores.reset_index(drop=True)\n",
    "\n",
    "group_table = scores.groupby(by=[\"Score_group\"]).agg(Survivor_n=(\"Survived\",\"sum\"),N=(\"Survived\",\"count\")).reset_index()\n",
    "group_table[\"perc\"] = group_table[\"Survivor_n\"]/group_table[\"N\"]\n",
    "group_table[\"perc_N\"] = group_table[\"N\"]/group_table[\"N\"].sum()"
   ]
  },
  {
   "cell_type": "code",
   "execution_count": 26,
   "id": "9eb0a46a-fa54-4a9d-8ea0-11fd432bcffe",
   "metadata": {},
   "outputs": [
    {
     "data": {
      "image/png": "[encoded data removed]",
      "text/plain": [
       "<Figure size 1200x600 with 2 Axes>"
      ]
     },
     "metadata": {},
     "output_type": "display_data"
    }
   ],
   "source": [
    "matplotlib.rc_file_defaults()\n",
    "ax1 = sns.set_style(style=None, rc=None)\n",
    "fig, ax1 = plt.subplots(figsize=(12,6))\n",
    "sns.lineplot(data = group_table['perc'], marker='o', sort = False, ax=ax1)\n",
    "ax2 = ax1.twinx()\n",
    "sns.barplot(data = group_table, x='Score_group', y='perc_N', alpha=0.5, ax=ax2)\n",
    "plt.show()"
   ]
  }
 ],
 "metadata": {
  "kernelspec": {
   "display_name": "Python 3",
   "language": "python",
   "name": "python3"
  },
  "language_info": {
   "codemirror_mode": {
    "name": "ipython",
    "version": 3
   },
   "file_extension": ".py",
   "mimetype": "text/x-python",
   "name": "python",
   "nbconvert_exporter": "python",
   "pygments_lexer": "ipython3",
   "version": "3.9.0"
  }
 },
 "nbformat": 4,
 "nbformat_minor": 5
}
